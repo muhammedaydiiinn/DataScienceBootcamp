{
 "nbformat": 4,
 "nbformat_minor": 0,
 "metadata": {
  "colab": {
   "provenance": []
  },
  "kernelspec": {
   "name": "python3",
   "display_name": "Python 3"
  },
  "language_info": {
   "name": "python"
  }
 },
 "cells": [
  {
   "metadata": {},
   "cell_type": "markdown",
   "source": [
    "## 1. Bağlı Liste (Linked List) Tanımlama\n",
    "\n",
    "Bir bağlı liste, düğümlerden oluşur. Her düğüm iki parçadan oluşur:\n",
    "\n",
    "    Değer: Düğümün taşıdığı veri.\n",
    "    Pointer (Gösterici): Bir sonraki düğümü işaret eder.\n",
    "\n",
    "Aşağıda, bağlı listeyi Python'da nasıl tanımlayabileceğinizi gösteren bir örnek vardır.\n",
    "Bağlı Liste Düğüm Sınıfı (Node Class)\n",
    "\n",
    "Öncelikle, her düğüm için bir sınıf oluştururuz. Bu sınıf, bir veri ve bir sonraki düğüme işaret eden bir göstericiye sahip olur."
   ]
  },
  {
   "cell_type": "code",
   "source": [
    "# Bağlı liste düğümünü temsil eden sınıf\n",
    "class Node:\n",
    "    def __init__(self, data):\n",
    "        self.data = data  # Düğümün taşıdığı veri\n",
    "        self.next = None  # Sonraki düğüme işaret eden gösterici (başlangıçta None)\n"
   ],
   "metadata": {
    "id": "B9CpE64WJd77"
   },
   "execution_count": 5,
   "outputs": []
  },
  {
   "cell_type": "markdown",
   "source": [
    "## Bağlı Liste Sınıfı (Linked List Class)\n",
    "\n",
    "Bu sınıf, bağlı listeyi yönetir. Başlangıçta listenin ilk düğümü (head) None olur. Bu sınıfta düğüm ekleme ve listeyi yazdırma gibi fonksiyonlar tanımlayabiliriz."
   ],
   "metadata": {
    "id": "4fKcXnweJoE9"
   }
  },
  {
   "cell_type": "code",
   "source": [
    "# Bağlı listeyi temsil eden sınıf\n",
    "class LinkedList:\n",
    "    def __init__(self):\n",
    "        self.head = None  # Başlangıçta bağlı liste boş (head düğümü None)\n",
    "\n",
    "    # Bağlı listeye düğüm ekleme fonksiyonu\n",
    "    def insert(self, new_data):\n",
    "        new_node = Node(new_data)  # Yeni düğüm oluştur\n",
    "        new_node.next = self.head  # Yeni düğüm, mevcut ilk düğüme işaret eder\n",
    "        self.head = new_node  # Yeni düğümü başa ekle\n",
    "\n",
    "    # Bağlı listedeki tüm düğümleri yazdıran fonksiyon\n",
    "    def print_list(self):\n",
    "        temp = self.head  # Başlangıçtaki düğümü al\n",
    "        while temp:\n",
    "            print(temp.data, end=\" -> \")  # Düğümün verisini yazdır\n",
    "            temp = temp.next  # Sonraki düğüme geç\n",
    "        print(\"None\")  # Listenin sonunu belirtmek için None yazdır\n"
   ],
   "metadata": {
    "id": "G-O5z8iWJq8z"
   },
   "execution_count": 4,
   "outputs": []
  },
  {
   "cell_type": "markdown",
   "source": [
    "## 2. Bağlı Listeye Eleman Ekleme ve Yazdırma\n",
    "\n",
    "Aşağıda, tanımladığımız bağlı liste sınıfını kullanarak eleman ekleme ve listeyi yazdırmayı gösteren bir örnek verilmiştir."
   ],
   "metadata": {
    "id": "1hhjiDMGJukw"
   }
  },
  {
   "cell_type": "code",
   "source": [
    "# Bağlı liste oluşturma\n",
    "llist = LinkedList()\n",
    "\n",
    "# Listeye eleman ekleme\n",
    "llist.insert(5)\n",
    "llist.insert(10)\n",
    "llist.insert(15)\n",
    "\n",
    "# Bağlı listeyi yazdırma\n",
    "llist.print_list()  # Çıktı: 15 -> 10 -> 5 -> None\n"
   ],
   "metadata": {
    "colab": {
     "base_uri": "https://localhost:8080/"
    },
    "id": "aDLfwPPPJ0dR",
    "outputId": "d8261c37-eaad-4bae-9da1-8d2c6db6d47d"
   },
   "execution_count": 3,
   "outputs": [
    {
     "output_type": "stream",
     "name": "stdout",
     "text": [
      "15 -> 10 -> 5 -> None\n"
     ]
    }
   ]
  },
  {
   "cell_type": "markdown",
   "source": [
    "Açıklama:\n",
    "\n",
    "    Düğüm ekleme (insert): Her yeni düğüm listenin başına eklenir. Örneğin, 15 eklendiğinde listenin başına eklenir ve önceki baş olan 10, 15'in ardından gelir.\n",
    "    Listeyi yazdırma (print_list): print_list fonksiyonu, listenin başından başlayarak her düğümü sırasıyla yazdırır."
   ],
   "metadata": {
    "id": "DVgr_C4MJ_e6"
   }
  },
  {
   "cell_type": "markdown",
   "source": [
    "## 3. Bağlı Listeye Sonuna Ekleme\n",
    "\n",
    "Bir düğümü bağlı listenin sonuna eklemek için özel bir fonksiyon yazabiliriz."
   ],
   "metadata": {
    "id": "BNCSsgKrKJTM"
   }
  },
  {
   "cell_type": "code",
   "source": [
    "class Node:\n",
    "    def __init__(self, data):\n",
    "        self.data = data  # Düğümün taşıdığı veri\n",
    "        self.next = None  # Bir sonraki düğüme işaret eden gösterici\n",
    "\n",
    "\n",
    "class LinkedList:\n",
    "    def __init__(self):\n",
    "        self.head = None  # Bağlı liste başlangıçta boştur\n",
    "\n",
    "    # Bağlı listenin başına eleman ekleme\n",
    "    def insert(self, new_data):\n",
    "        new_node = Node(new_data)  # Yeni düğüm oluştur\n",
    "        new_node.next = self.head  # Yeni düğümün next'ini eski head yap\n",
    "        self.head = new_node  # Yeni düğüm başa eklenir\n",
    "\n",
    "    # Bağlı liste sonuna düğüm ekleme fonksiyonu\n",
    "    def append(self, new_data):\n",
    "        new_node = Node(new_data)  # Yeni düğüm oluştur\n",
    "\n",
    "        # Eğer liste boşsa, yeni düğüm baş düğüm olur\n",
    "        if self.head is None:\n",
    "            self.head = new_node\n",
    "            return\n",
    "\n",
    "        # Liste boş değilse, listenin sonuna kadar git\n",
    "        last = self.head\n",
    "        while last.next:\n",
    "            last = last.next\n",
    "\n",
    "        last.next = new_node  # Son düğümün next pointer'ını yeni düğüme işaret et\n",
    "\n",
    "    # Bağlı listeyi yazdıran fonksiyon\n",
    "    def print_list(self):\n",
    "        temp = self.head  # İlk düğümü al\n",
    "        while temp:\n",
    "            print(temp.data, end=\" -> \")\n",
    "            temp = temp.next\n",
    "        print(\"None\")  # Listenin sonunu belirtmek için None yazdır\n",
    "\n",
    "\n",
    "# Bağlı liste oluşturma\n",
    "llist = LinkedList()\n",
    "\n",
    "# Listeye eleman ekleme\n",
    "llist.insert(5)\n",
    "llist.insert(10)\n",
    "llist.insert(15)\n",
    "\n",
    "# Bağlı liste sonuna eleman ekleme\n",
    "llist.append(20)\n",
    "\n",
    "# Bağlı listeyi yazdırma\n",
    "llist.print_list()  # Çıktı: 15 -> 10 -> 5 -> 20 -> None\n",
    "\n"
   ],
   "metadata": {
    "colab": {
     "base_uri": "https://localhost:8080/"
    },
    "id": "WF_XwHgpKAiF",
    "outputId": "2aa00cc4-f05e-4d1e-bf86-20b960eb096d"
   },
   "execution_count": 7,
   "outputs": [
    {
     "output_type": "stream",
     "name": "stdout",
     "text": [
      "15 -> 10 -> 5 -> 20 -> None\n"
     ]
    }
   ]
  },
  {
   "cell_type": "markdown",
   "source": [
    "## 4. Bağlı Listede Eleman Silme\n",
    "\n",
    "Bir düğümü bağlı listeden silmek için de bir fonksiyon tanımlayabiliriz.\n",
    "\n"
   ],
   "metadata": {
    "id": "l8iCAzAtLY2c"
   }
  },
  {
   "cell_type": "code",
   "source": [
    "# Bağlı listeden düğüm silme fonksiyonu\n",
    "def delete_node(self, key):\n",
    "    temp = self.head\n",
    "\n",
    "    # Eğer silinecek düğüm başta ise\n",
    "    if temp is not None:\n",
    "        if temp.data == key:\n",
    "            self.head = temp.next  # Baş düğümü değiştir\n",
    "            temp = None\n",
    "            return\n",
    "\n",
    "    # Silinecek düğümü bulmak için listeyi tara\n",
    "    prev = None\n",
    "    while temp is not None:\n",
    "        if temp.data == key:\n",
    "            break\n",
    "        prev = temp\n",
    "        temp = temp.next\n",
    "\n",
    "    # Eğer düğüm bulunamadıysa\n",
    "    if temp == None:\n",
    "        return\n",
    "\n",
    "    prev.next = temp.next  # Düğümü listeden çıkar\n",
    "    temp = None\n",
    "\n",
    "# Bu fonksiyonu bağlı liste sınıfına eklemek için:\n",
    "LinkedList.delete_node = delete_node\n",
    "\n",
    "# Eleman silme işlemi:\n",
    "llist.delete_node(10)\n",
    "llist.print_list()  # Çıktı: 15 -> 5 -> 20 -> None\n"
   ],
   "metadata": {
    "colab": {
     "base_uri": "https://localhost:8080/"
    },
    "id": "NB0pug_ULbwR",
    "outputId": "1a9fa24b-7405-4940-db5e-6cff9cde25a0"
   },
   "execution_count": 8,
   "outputs": [
    {
     "output_type": "stream",
     "name": "stdout",
     "text": [
      "15 -> 5 -> 20 -> None\n"
     ]
    }
   ]
  },
  {
   "cell_type": "markdown",
   "source": [
    "Açıklama:\n",
    "\n",
    "    delete_node fonksiyonu, listede belirli bir anahtara (key) sahip düğümü siler. Eğer silinecek düğüm baş düğümse, baş düğüm güncellenir. Diğer durumlarda, önceki düğüm, silinecek düğümün sonrasındaki düğüme işaret eder."
   ],
   "metadata": {
    "id": "SOJhGV_qLhFy"
   }
  },
  {
   "cell_type": "markdown",
   "source": [
    "5. Bağlı Listenin Avantajları\n",
    "\n",
    "    Dinamik Boyut: Bağlı listeler sabit bir boyuta sahip değildir, eleman eklendikçe genişleyebilir.\n",
    "    Kolay Eleman Ekleme ve Silme: Bir dizinin aksine, bağlı listelerde eleman ekleme ve silme işlemleri daha verimlidir (özellikle listenin başında veya ortasında).\n",
    "\n",
    "6. Bağlı Listenin Dezavantajları\n",
    "\n",
    "    Rasgele Erişim Yok: Bağlı listelerde bir elemanı bulmak için sırayla tarama yapılmalıdır; dizi gibi doğrudan erişim yoktur.\n",
    "    Bellek Kullanımı: Her düğüm, veriden ziyade bir göstericiye de sahip olduğu için dizilere kıyasla daha fazla bellek tüketir."
   ],
   "metadata": {
    "id": "-T91PhuSLiZY"
   }
  }
 ]
}
