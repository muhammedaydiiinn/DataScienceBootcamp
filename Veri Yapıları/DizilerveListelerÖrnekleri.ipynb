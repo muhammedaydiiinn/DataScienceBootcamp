{
  "nbformat": 4,
  "nbformat_minor": 0,
  "metadata": {
    "colab": {
      "provenance": []
    },
    "kernelspec": {
      "name": "python3",
      "display_name": "Python 3"
    },
    "language_info": {
      "name": "python"
    }
  },
  "cells": [
    {
      "cell_type": "markdown",
      "source": [
        "## 1. Liste Örnekleri\n",
        "\n",
        "Python'da listeler, birden fazla veri tipini bir arada tutabilen dinamik veri yapılarıdır. İşte çeşitli liste işlemleri:"
      ],
      "metadata": {
        "id": "BeDEf_lE-6Gl"
      }
    },
    {
      "cell_type": "markdown",
      "source": [
        "**Liste Tanımlama ve Temel İşlemler**\n",
        "\n"
      ],
      "metadata": {
        "id": "lg3cjFpP_Lzx"
      }
    },
    {
      "cell_type": "code",
      "source": [
        "# Liste tanımlama\n",
        "my_list = [1, 2, 3, 4, 5]\n",
        "\n",
        "# Listeye eleman ekleme\n",
        "my_list.append(6)  # Liste sonuna eleman ekler\n",
        "print(my_list)  # [1, 2, 3, 4, 5, 6]\n",
        "\n",
        "# Listeden eleman çıkarma\n",
        "my_list.remove(3)  # 3'ü listeden çıkarır\n",
        "print(my_list)  # [1, 2, 4, 5, 6]\n",
        "\n",
        "# Liste elemanlarına erişim\n",
        "print(my_list[0])  # İlk eleman: 1\n",
        "print(my_list[-1])  # Son eleman: 6\n",
        "\n",
        "# Liste dilimleme\n",
        "print(my_list[1:4])  # [2, 4, 5]\n"
      ],
      "metadata": {
        "colab": {
          "base_uri": "https://localhost:8080/"
        },
        "id": "zP8M_QaP_DJF",
        "outputId": "5a85ab9e-9500-4c8d-8ccf-6283d28eea84"
      },
      "execution_count": 1,
      "outputs": [
        {
          "output_type": "stream",
          "name": "stdout",
          "text": [
            "[1, 2, 3, 4, 5, 6]\n",
            "[1, 2, 4, 5, 6]\n",
            "1\n",
            "6\n",
            "[2, 4, 5]\n"
          ]
        }
      ]
    },
    {
      "cell_type": "markdown",
      "source": [
        "**Liste Döngüleri**"
      ],
      "metadata": {
        "id": "dW20rYwg_ZuP"
      }
    },
    {
      "cell_type": "code",
      "source": [
        "# Liste üzerinde döngü kurma\n",
        "for element in my_list:\n",
        "    print(element)\n",
        "\n",
        "# Liste elemanlarını koşula göre işleme\n",
        "even_numbers = [x for x in my_list if x % 2 == 0]  # Çift sayılar\n",
        "print(even_numbers)  # [2, 4, 6]\n"
      ],
      "metadata": {
        "colab": {
          "base_uri": "https://localhost:8080/"
        },
        "id": "9yvBdL0DASvj",
        "outputId": "61a16467-cb50-4b96-f036-26c20b480a18"
      },
      "execution_count": 2,
      "outputs": [
        {
          "output_type": "stream",
          "name": "stdout",
          "text": [
            "1\n",
            "2\n",
            "4\n",
            "5\n",
            "6\n",
            "[2, 4, 6]\n"
          ]
        }
      ]
    },
    {
      "cell_type": "markdown",
      "source": [
        "**Liste Fonksiyonları**"
      ],
      "metadata": {
        "id": "SnqtZ_yfAYRL"
      }
    },
    {
      "cell_type": "code",
      "source": [
        "# Liste uzunluğu\n",
        "print(len(my_list))  # Liste uzunluğu: 5\n",
        "\n",
        "# Listenin en büyük ve en küçük elemanı\n",
        "print(max(my_list))  # Maksimum değer: 6\n",
        "print(min(my_list))  # Minimum değer: 1\n",
        "\n",
        "# Listeyi tersine çevirme\n",
        "my_list.reverse()\n",
        "print(my_list)  # [6, 5, 4, 2, 1]\n",
        "\n",
        "# Listeyi sıralama\n",
        "my_list.sort()\n",
        "print(my_list)  # [1, 2, 4, 5, 6]\n"
      ],
      "metadata": {
        "colab": {
          "base_uri": "https://localhost:8080/"
        },
        "id": "GFNGkX82Aa-z",
        "outputId": "7ab97caf-8ecc-4530-ba93-b34218158a2b"
      },
      "execution_count": 3,
      "outputs": [
        {
          "output_type": "stream",
          "name": "stdout",
          "text": [
            "5\n",
            "6\n",
            "1\n",
            "[6, 5, 4, 2, 1]\n",
            "[1, 2, 4, 5, 6]\n"
          ]
        }
      ]
    },
    {
      "cell_type": "markdown",
      "source": [
        "## Diziler"
      ],
      "metadata": {
        "id": "B9puv5tFBohw"
      }
    },
    {
      "cell_type": "markdown",
      "source": [
        "Python'da dizi (array) yapısı aslında varsayılan olarak gelmez; Python listeleri, dinamik boyutlu ve esnek oldukları için genellikle dizi yerine kullanılır. Ancak, Python'da dizilere özgü özellikler ve daha hızlı işlem yapma imkanı sunan bir kütüphane vardır: NumPy. NumPy, büyük verilerle ve çok boyutlu dizilerle çalışmak için özel olarak tasarlanmış bir kütüphanedir."
      ],
      "metadata": {
        "id": "72L98gK2Bp_i"
      }
    },
    {
      "cell_type": "code",
      "source": [
        "import numpy as np\n",
        "\n",
        "# Tek boyutlu bir dizi (vektör)\n",
        "my_array = np.array([1, 2, 3, 4, 5])\n",
        "print(my_array)\n",
        "\n",
        "# Çok boyutlu dizi (matris)\n",
        "matrix = np.array([[1, 2, 3], [4, 5, 6]])\n",
        "print(matrix)\n"
      ],
      "metadata": {
        "colab": {
          "base_uri": "https://localhost:8080/"
        },
        "id": "9obvcLrFCKrR",
        "outputId": "239a38c5-f2e5-47ca-e84d-5c216f4b0a51"
      },
      "execution_count": 5,
      "outputs": [
        {
          "output_type": "stream",
          "name": "stdout",
          "text": [
            "[1 2 3 4 5]\n",
            "[[1 2 3]\n",
            " [4 5 6]]\n"
          ]
        }
      ]
    },
    {
      "cell_type": "markdown",
      "source": [
        " **Dizileri ile İşlemler**\n",
        "\n",
        "NumPy dizileri ile toplama, çıkarma, çarpma gibi işlemleri hızlıca yapabilirsiniz. Ayrıca bu diziler üzerinde matematiksel ve istatistiksel fonksiyonlar da mevcuttur."
      ],
      "metadata": {
        "id": "RnEvMKAMB1qH"
      }
    },
    {
      "cell_type": "markdown",
      "source": [
        "Temel Matematiksel İşlemler"
      ],
      "metadata": {
        "id": "zYeIpex4B-bp"
      }
    },
    {
      "cell_type": "code",
      "source": [
        "# Dizideki tüm elemanları 2 ile çarpalım\n",
        "multiplied_array = my_array * 2\n",
        "print(multiplied_array)  # [ 2  4  6  8 10]\n",
        "\n",
        "# Dizideki elemanların karesini alalım\n",
        "squared_array = my_array ** 2\n",
        "print(squared_array)  # [ 1  4  9 16 25]\n"
      ],
      "metadata": {
        "colab": {
          "base_uri": "https://localhost:8080/"
        },
        "id": "oDWbw36BCC8b",
        "outputId": "18213294-d07a-47c8-cfc1-b0b529226b9a"
      },
      "execution_count": 6,
      "outputs": [
        {
          "output_type": "stream",
          "name": "stdout",
          "text": [
            "[ 2  4  6  8 10]\n",
            "[ 1  4  9 16 25]\n"
          ]
        }
      ]
    },
    {
      "cell_type": "markdown",
      "source": [
        "**İstatistiksel İşlemler**"
      ],
      "metadata": {
        "id": "VSyQx5_2CZ2L"
      }
    },
    {
      "cell_type": "code",
      "source": [
        "# Dizideki elemanların toplamı\n",
        "print(np.sum(my_array))  # 15\n",
        "\n",
        "# Dizideki en büyük ve en küçük eleman\n",
        "print(np.max(my_array))  # 5\n",
        "print(np.min(my_array))  # 1\n",
        "\n",
        "# Dizinin ortalaması\n",
        "print(np.mean(my_array))  # 3.0\n"
      ],
      "metadata": {
        "colab": {
          "base_uri": "https://localhost:8080/"
        },
        "id": "sMlTY4SvCdoQ",
        "outputId": "44910df4-b7d4-4ade-aa54-c1cb99926040"
      },
      "execution_count": 7,
      "outputs": [
        {
          "output_type": "stream",
          "name": "stdout",
          "text": [
            "15\n",
            "5\n",
            "1\n",
            "3.0\n"
          ]
        }
      ]
    },
    {
      "cell_type": "markdown",
      "source": [
        "**Çok Boyutlu Diziler (Matrisler)**\n",
        "\n",
        "NumPy ile çok boyutlu diziler, yani matrisler oluşturabilirsiniz. Bu matrisler üzerinde transpoz alma, matris çarpımı gibi işlemler yapılabilir.\n",
        "\n",
        "Çok Boyutlu Dizi Tanımlama"
      ],
      "metadata": {
        "id": "hrxERcQ0Ci9h"
      }
    },
    {
      "cell_type": "code",
      "source": [
        "# 2x3 boyutunda bir dizi\n",
        "matrix = np.array([[1, 2, 3], [4, 5, 6]])\n",
        "\n"
      ],
      "metadata": {
        "colab": {
          "base_uri": "https://localhost:8080/"
        },
        "id": "_WLaPFJ2CsDj",
        "outputId": "a19dedd7-c369-4ff2-f3e1-f4056d334511"
      },
      "execution_count": 8,
      "outputs": [
        {
          "output_type": "stream",
          "name": "stdout",
          "text": [
            "[[1 4]\n",
            " [2 5]\n",
            " [3 6]]\n"
          ]
        }
      ]
    }
  ]
}