{
  "nbformat": 4,
  "nbformat_minor": 0,
  "metadata": {
    "colab": {
      "provenance": []
    },
    "kernelspec": {
      "name": "python3",
      "display_name": "Python 3"
    },
    "language_info": {
      "name": "python"
    }
  },
  "cells": [
    {
      "cell_type": "markdown",
      "source": [
        "# 1. Yığın (Stack)\n",
        "\n",
        "Yığın veri yapısı, LIFO (Last In, First Out) prensibine göre çalışır. Yani, yığına son eklenen veri ilk önce çıkarılır. Bu, bir dizi nesneye geri dönerken veya bir işlemin en son eklenmiş kısmını işleme almak istediğinizde kullanışlıdır."
      ],
      "metadata": {
        "id": "H2E24H14L8cB"
      }
    },
    {
      "cell_type": "code",
      "source": [
        "# Yığın sınıfı\n",
        "class Stack:\n",
        "    def __init__(self):\n",
        "        self.stack = []  # Yığın başlangıçta boştur\n",
        "\n",
        "    # Yığına eleman ekler\n",
        "    def push(self, item):\n",
        "        self.stack.append(item)\n",
        "        print(f\"Pushed {item} into stack\")\n",
        "\n",
        "    # Yığından eleman çıkarır\n",
        "    def pop(self):\n",
        "        if not self.is_empty():\n",
        "            item = self.stack.pop()\n",
        "            print(f\"Popped {item} from stack\")\n",
        "            return item\n",
        "        else:\n",
        "            print(\"Stack is empty!\")\n",
        "            return None\n",
        "\n",
        "    # Yığının en üstündeki elemanı görür\n",
        "    def peek(self):\n",
        "        if not self.is_empty():\n",
        "            return self.stack[-1]\n",
        "        else:\n",
        "            print(\"Stack is empty!\")\n",
        "            return None\n",
        "\n",
        "    # Yığının boş olup olmadığını kontrol eder\n",
        "    def is_empty(self):\n",
        "        return len(self.stack) == 0\n",
        "\n",
        "    # Yığındaki elemanları yazdırır\n",
        "    def display(self):\n",
        "        print(\"Stack:\", self.stack)\n",
        "\n",
        "# Yığın oluşturma\n",
        "stack = Stack()\n",
        "\n",
        "# Yığına eleman ekleme (Push)\n",
        "stack.push(10)\n",
        "stack.push(20)\n",
        "stack.push(30)\n",
        "\n",
        "# Yığının en üstündeki elemanı görme (Peek)\n",
        "print(\"en üstteki eleman:\", stack.peek())  # 30\n",
        "\n",
        "# Yığından eleman çıkarma (Pop)\n",
        "stack.pop()  # 30 çıkar\n",
        "stack.pop()  # 20 çıkar\n",
        "\n",
        "# Yığının durumunu kontrol etme\n",
        "print(\"yıgın boş mudur?\", stack.is_empty())  # False\n",
        "\n",
        "# Yığındaki elemanları yazdırma\n",
        "stack.display()  # [10]\n"
      ],
      "metadata": {
        "colab": {
          "base_uri": "https://localhost:8080/"
        },
        "id": "BaDNC0JhMe84",
        "outputId": "baa4ef8b-4ddf-42dd-e1eb-b3b72df710a2"
      },
      "execution_count": 1,
      "outputs": [
        {
          "output_type": "stream",
          "name": "stdout",
          "text": [
            "Pushed 10 into stack\n",
            "Pushed 20 into stack\n",
            "Pushed 30 into stack\n",
            "en üstteki eleman: 30\n",
            "Popped 30 from stack\n",
            "Popped 20 from stack\n",
            "yıgın boş mudur? False\n",
            "Stack: [10]\n"
          ]
        }
      ]
    },
    {
      "cell_type": "markdown",
      "source": [
        "## 2. Kuyruk (Queue)\n",
        "\n",
        "Kuyruk veri yapısı, FIFO (First In, First Out) prensibine göre çalışır. Yani, kuyruğa ilk eklenen veri ilk önce çıkarılır. Bu, sıraya girme ya da işlemleri sırayla işleme alma gibi durumlarda kullanılır."
      ],
      "metadata": {
        "id": "2MyKMNLjNDWF"
      }
    },
    {
      "cell_type": "code",
      "source": [
        "# Kuyruk sınıfı\n",
        "class Queue:\n",
        "    def __init__(self):\n",
        "        self.queue = []  # Kuyruk başlangıçta boştur\n",
        "\n",
        "    # Kuyruğa eleman ekler (Enqueue)\n",
        "    def enqueue(self, item):\n",
        "        self.queue.append(item)\n",
        "        print(f\"Enqueued {item} into queue\")\n",
        "\n",
        "    # Kuyruktan eleman çıkarır (Dequeue)\n",
        "    def dequeue(self):\n",
        "        if not self.is_empty():\n",
        "            item = self.queue.pop(0)\n",
        "            print(f\"Dequeued {item} from queue\")\n",
        "            return item\n",
        "        else:\n",
        "            print(\"Queue is empty!\")\n",
        "            return None\n",
        "\n",
        "    # Kuyruğun başındaki elemanı görür\n",
        "    def peek(self):\n",
        "        if not self.is_empty():\n",
        "            return self.queue[0]\n",
        "        else:\n",
        "            print(\"Queue is empty!\")\n",
        "            return None\n",
        "\n",
        "    # Kuyruğun boş olup olmadığını kontrol eder\n",
        "    def is_empty(self):\n",
        "        return len(self.queue) == 0\n",
        "\n",
        "    # Kuyruktaki elemanları yazdırır\n",
        "    def display(self):\n",
        "        print(\"Queue:\", self.queue)\n",
        "\n",
        "# Kuyruk oluşturma\n",
        "queue = Queue()\n",
        "\n",
        "# Kuyruğa eleman ekleme (Enqueue)\n",
        "queue.enqueue(10)\n",
        "queue.enqueue(20)\n",
        "queue.enqueue(30)\n",
        "\n",
        "# Kuyruğun başındaki elemanı görme (Peek)\n",
        "print(\"İlk eleman:\", queue.peek())  # 10\n",
        "\n",
        "# Kuyruktan eleman çıkarma (Dequeue)\n",
        "queue.dequeue()  # 10 çıkar\n",
        "queue.dequeue()  # 20 çıkar\n",
        "\n",
        "# Kuyruğun durumunu kontrol etme\n",
        "print(\"Kuyruk Boşmu?\", queue.is_empty())  # False\n",
        "\n",
        "# Kuyruktaki elemanları yazdırma\n",
        "queue.display()  # [30]\n"
      ],
      "metadata": {
        "colab": {
          "base_uri": "https://localhost:8080/"
        },
        "id": "yXD4SlRINFhv",
        "outputId": "e86ae0cf-51a9-4863-97b5-558754c5921a"
      },
      "execution_count": 3,
      "outputs": [
        {
          "output_type": "stream",
          "name": "stdout",
          "text": [
            "Enqueued 10 into queue\n",
            "Enqueued 20 into queue\n",
            "Enqueued 30 into queue\n",
            "İlk eleman: 10\n",
            "Dequeued 10 from queue\n",
            "Dequeued 20 from queue\n",
            "Kuyruk Boşmu? False\n",
            "Queue: [30]\n"
          ]
        }
      ]
    }
  ]
}