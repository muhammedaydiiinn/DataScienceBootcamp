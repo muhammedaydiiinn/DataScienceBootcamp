{
  "nbformat": 4,
  "nbformat_minor": 0,
  "metadata": {
    "colab": {
      "provenance": []
    },
    "kernelspec": {
      "name": "python3",
      "display_name": "Python 3"
    },
    "language_info": {
      "name": "python"
    }
  },
  "cells": [
    {
      "cell_type": "markdown",
      "source": [
        "# Graph Algoritmaları\n",
        "Graf algoritmaları, düğümler (noktalar) ve kenarlar (bağlantılar) ile tanımlanan grafik yapıları üzerinde çalışan algoritmalardır. Temel amacı, grafikteki düğümler arasındaki bağlantıları keşfetmek, yolları bulmak ve çeşitli problemleri çözmektir."
      ],
      "metadata": {
        "id": "89Lb2CC60UIe"
      }
    },
    {
      "cell_type": "markdown",
      "source": [
        "## 1. Derinlik Öncelikli Arama (DFS - Depth First Search)\n",
        "\n",
        "Derinlik Öncelikli Arama (DFS), grafiği keşfetmek için kullanılan bir algoritmadır. Bu algoritmada, bir düğümden başlayarak olabildiğince derine gidilir ve sonra geri dönülerek diğer dallar keşfedilir."
      ],
      "metadata": {
        "id": "YFj4Ank20c4V"
      }
    },
    {
      "cell_type": "code",
      "source": [
        "# Python'da Derinlik Öncelikli Arama algoritması\n",
        "\n",
        "# Grafiği komşuluk listesi olarak temsil ediyoruz\n",
        "graph = {\n",
        "    'A' : ['B', 'C'],\n",
        "    'B' : ['D', 'E'],\n",
        "    'C' : ['F'],\n",
        "    'D' : [],\n",
        "    'E' : ['F'],\n",
        "    'F' : []\n",
        "}\n",
        "\n",
        "visited = set()  # Ziyaret edilen düğümleri takip etmek için bir küme\n",
        "\n",
        "def dfs(visited, graph, node):\n",
        "    if node not in visited:\n",
        "        print(node, end=\" \")  # Mevcut düğümü yazdır\n",
        "        visited.add(node)  # Düğümü ziyaret edilmiş olarak işaretle\n",
        "        for neighbor in graph[node]:\n",
        "            dfs(visited, graph, neighbor)\n",
        "\n",
        "# Fonksiyonu çalıştırmak için\n",
        "dfs(visited, graph, 'A')\n"
      ],
      "metadata": {
        "colab": {
          "base_uri": "https://localhost:8080/"
        },
        "id": "0wbmwX0l0cEH",
        "outputId": "7c8a56b9-63c9-4d3e-ac7b-abd9672b556e"
      },
      "execution_count": 1,
      "outputs": [
        {
          "output_type": "stream",
          "name": "stdout",
          "text": [
            "A B D E F C "
          ]
        }
      ]
    },
    {
      "cell_type": "markdown",
      "source": [
        "Açıklama:\n",
        "\n",
        "    dfs fonksiyonu, bir düğümden başlayarak grafiği derinlemesine dolaşır.\n",
        "    Eğer düğüm ziyaret edilmemişse, önce düğümü yazdırır, ardından komşularını ziyaret eder."
      ],
      "metadata": {
        "id": "Lyg4Zxs78I2H"
      }
    },
    {
      "cell_type": "markdown",
      "source": [
        "## 2. Genişlik Öncelikli Arama (BFS - Breadth First Search)\n",
        "\n",
        "Genişlik Öncelikli Arama (BFS), grafikteki düğümleri katman katman keşfetmek için kullanılır. Önce bir düğümün tüm komşuları ziyaret edilir, sonra bu komşuların komşularına geçilir."
      ],
      "metadata": {
        "id": "Db-9XBCj8m-D"
      }
    },
    {
      "cell_type": "code",
      "source": [
        "# Python'da Genişlik Öncelikli Arama algoritması\n",
        "\n",
        "# Grafiği komşuluk listesi olarak temsil ediyoruz\n",
        "graph = {\n",
        "    'A' : ['B', 'C'],\n",
        "    'B' : ['D', 'E'],\n",
        "    'C' : ['F'],\n",
        "    'D' : [],\n",
        "    'E' : ['F'],\n",
        "    'F' : []\n",
        "}\n",
        "\n",
        "visited = []  # Ziyaret edilen düğümleri takip etmek için liste\n",
        "queue = []    # Sıra oluşturma\n",
        "\n",
        "def bfs(visited, graph, node):\n",
        "    visited.append(node)\n",
        "    queue.append(node)\n",
        "\n",
        "    while queue:\n",
        "        m = queue.pop(0)  # Sıradaki düğümü çıkar\n",
        "        print(m, end=\" \")\n",
        "\n",
        "        for neighbor in graph[m]:\n",
        "            if neighbor not in visited:\n",
        "                visited.append(neighbor)\n",
        "                queue.append(neighbor)\n",
        "\n",
        "# Fonksiyonu çalıştırmak için\n",
        "bfs(visited, graph, 'A')\n"
      ],
      "metadata": {
        "colab": {
          "base_uri": "https://localhost:8080/"
        },
        "id": "FlGgvE4F8LQB",
        "outputId": "545af5c0-5ee7-4526-8ace-288d73106260"
      },
      "execution_count": 2,
      "outputs": [
        {
          "output_type": "stream",
          "name": "stdout",
          "text": [
            "A B C D E F "
          ]
        }
      ]
    },
    {
      "cell_type": "markdown",
      "source": [
        "Açıklama:\n",
        "\n",
        "    bfs fonksiyonu, bir düğümden başlayarak önce tüm komşularını, ardından onların komşularını sıra ile ziyaret eder.\n",
        "    Bu algoritmada düğümler sırayla işlenir, dolayısıyla genişleme katman katman yapılır."
      ],
      "metadata": {
        "id": "kUAzONDs8uqo"
      }
    },
    {
      "cell_type": "markdown",
      "source": [
        "## 3. Dijkstra Algoritması\n",
        "\n",
        "Dijkstra algoritması, bir kaynaktan başlayarak grafikteki en kısa yolları bulmak için kullanılır. Ağırlıklı kenarları olan grafikte, her düğüme olan en kısa mesafeyi hesaplar."
      ],
      "metadata": {
        "id": "Z4COpv-J8z8K"
      }
    },
    {
      "cell_type": "code",
      "source": [
        "import heapq\n",
        "\n",
        "# Dijkstra'nın en kısa yol algoritması\n",
        "def dijkstra(graph, start):\n",
        "    queue = [(0, start)]\n",
        "    distances = {node: float('infinity') for node in graph}\n",
        "    distances[start] = 0\n",
        "\n",
        "    while queue:\n",
        "        current_distance, current_node = heapq.heappop(queue)\n",
        "\n",
        "        if current_distance > distances[current_node]:\n",
        "            continue\n",
        "\n",
        "        for neighbor, weight in graph[current_node]:\n",
        "            distance = current_distance + weight\n",
        "\n",
        "            if distance < distances[neighbor]:\n",
        "                distances[neighbor] = distance\n",
        "                heapq.heappush(queue, (distance, neighbor))\n",
        "\n",
        "    return distances\n",
        "\n",
        "# Grafiği komşular ve ağırlıklar ile tanımlıyoruz\n",
        "graph = {\n",
        "    'A': [('B', 1), ('C', 4)],\n",
        "    'B': [('A', 1), ('C', 2), ('D', 5)],\n",
        "    'C': [('A', 4), ('B', 2), ('D', 1)],\n",
        "    'D': [('B', 5), ('C', 1)],\n",
        "}\n",
        "\n",
        "# Fonksiyonu çalıştırmak için\n",
        "distances = dijkstra(graph, 'A')\n",
        "print(distances)\n"
      ],
      "metadata": {
        "colab": {
          "base_uri": "https://localhost:8080/"
        },
        "id": "XllQf_Up8yN9",
        "outputId": "53c5223c-c4d7-4980-e862-f4c9a39cf022"
      },
      "execution_count": 3,
      "outputs": [
        {
          "output_type": "stream",
          "name": "stdout",
          "text": [
            "{'A': 0, 'B': 1, 'C': 3, 'D': 4}\n"
          ]
        }
      ]
    },
    {
      "cell_type": "markdown",
      "source": [
        "Açıklama:\n",
        "\n",
        "    dijkstra fonksiyonu, grafikte bir başlangıç düğümünden diğer düğümlere olan en kısa yolları hesaplar.\n",
        "    Bu algoritma, grafikteki düğümler arası en kısa mesafeyi bulurken bir öncelik sırası (heap) kullanır.\n",
        "\n",
        "Bu temel grafik algoritmaları, grafikleri keşfetmek ve yol bulma problemlerini çözmek için kullanılır. Daha karmaşık algoritmalar ve örnekler istersen, yardımcı olabilirim!"
      ],
      "metadata": {
        "id": "P4yulNSj89Yy"
      }
    }
  ]
}