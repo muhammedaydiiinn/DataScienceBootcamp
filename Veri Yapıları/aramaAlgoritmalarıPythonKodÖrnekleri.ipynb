{
 "nbformat": 4,
 "nbformat_minor": 0,
 "metadata": {
  "colab": {
   "provenance": []
  },
  "kernelspec": {
   "name": "python3",
   "display_name": "Python 3"
  },
  "language_info": {
   "name": "python"
  }
 },
 "cells": [
  {
   "metadata": {},
   "cell_type": "markdown",
   "source": "# *TURKSTUDENTCO ARAMA ALGORİTMALARI PYTHON ÖRNEKLERİ*"
  },
  {
   "metadata": {},
   "cell_type": "markdown",
   "source": [
    "## 1. Linear Search (Doğrusal Arama)\n",
    "* Bu algoritma en basit arama yöntemidir.\n",
    "* Dizinin her bir elemanını baştan sona doğru tek tek kontrol eder.\n",
    "* Zaman karmaşıklığı O(n)'dir."
   ]
  },
  {
   "cell_type": "code",
   "source": [
    "def linear_search(arr, target):\n",
    "    for i in range(len(arr)):\n",
    "        if arr[i] == target:\n",
    "            return i  # Aranan elemanın bulunduğu indeks döndürülür\n",
    "    return -1  # Eleman bulunamadıysa -1 döndürülür\n",
    "\n",
    "# Linear Search Kullanımı\n",
    "arr = [2, 3, 4, 10, 40]\n",
    "target = 10\n",
    "result = linear_search(arr, target)\n",
    "if result != -1:\n",
    "    print(f\"Linear Search: Eleman bulundu, indeks: {result}\")\n",
    "else:\n",
    "    print(\"Linear Search: Eleman bulunamadı\")"
   ],
   "metadata": {
    "colab": {
     "base_uri": "https://localhost:8080/"
    },
    "id": "fQyhnHscPUbV",
    "outputId": "959152fd-117b-4f43-dbf4-739bcca0326c"
   },
   "execution_count": 1,
   "outputs": [
    {
     "output_type": "stream",
     "name": "stdout",
     "text": [
      "Linear Search: Eleman bulundu, indeks: 3\n"
     ]
    }
   ]
  },
  {
   "cell_type": "markdown",
   "source": [
    "## 2. Binary Search (İkili Arama)\n",
    "* İkili arama sadece sıralanmış diziler üzerinde çalışır.\n",
    "* Diziyi sürekli olarak ikiye bölerek aranan elemanı bulur.\n",
    "* Zaman karmaşıklığı O(log n)'dir.\n"
   ],
   "metadata": {
    "id": "0BeAo48PPxVW"
   }
  },
  {
   "cell_type": "code",
   "source": [
    "def binary_search(arr, target):\n",
    "    low = 0\n",
    "    high = len(arr) - 1\n",
    "\n",
    "    while low <= high:\n",
    "        mid = (low + high) // 2\n",
    "\n",
    "        if arr[mid] == target:\n",
    "            return mid  # Aranan eleman bulundu\n",
    "        elif arr[mid] < target:\n",
    "            low = mid + 1  # Aranan eleman sağ tarafta\n",
    "        else:\n",
    "            high = mid - 1  # Aranan eleman sol tarafta\n",
    "\n",
    "    return -1  # Eleman bulunamadı\n",
    "\n",
    "# Binary Search Kullanımı\n",
    "arr = [2, 3, 4, 10, 40]\n",
    "target = 10\n",
    "result = binary_search(arr, target)\n",
    "if result != -1:\n",
    "    print(f\"Binary Search: Eleman bulundu, indeks: {result}\")\n",
    "else:\n",
    "    print(\"Binary Search: Eleman bulunamadı\")"
   ],
   "metadata": {
    "colab": {
     "base_uri": "https://localhost:8080/"
    },
    "id": "8akA6OV0P5Ms",
    "outputId": "f9904e11-f192-49b1-93b9-e2b20156f717"
   },
   "execution_count": 2,
   "outputs": [
    {
     "output_type": "stream",
     "name": "stdout",
     "text": [
      "Binary Search: Eleman bulundu, indeks: 3\n"
     ]
    }
   ]
  },
  {
   "cell_type": "markdown",
   "source": [
    "## 3. Jump Search (Atlama Araması)\n",
    "* Bu algoritma sıralanmış diziler üzerinde çalışır.\n",
    "* İkili aramadan daha hızlı olabilmek için diziyi sabit adımlar (bloklar) atlayarak arama yapar.\n",
    "* Blok boyutu genellikle √n olarak seçilir.\n",
    "* Zaman karmaşıklığı O(√n)'dir."
   ],
   "metadata": {
    "id": "bccHXw3nQAKL"
   }
  },
  {
   "cell_type": "code",
   "source": [
    "import math\n",
    "\n",
    "def jump_search(arr, target):\n",
    "    n = len(arr)\n",
    "    step = int(math.sqrt(n))  # Atlanacak adım büyüklüğü\n",
    "    prev = 0\n",
    "\n",
    "    # Atlamalarla elemanı arıyoruz\n",
    "    while arr[min(step, n) - 1] < target:\n",
    "        prev = step\n",
    "        step += int(math.sqrt(n))\n",
    "        if prev >= n:\n",
    "            return -1  # Eleman dizide bulunamadı\n",
    "\n",
    "    # Bulduğumuz blok içinde lineer arama yapıyoruz\n",
    "    while arr[prev] < target:\n",
    "        prev += 1\n",
    "        if prev == min(step, n):\n",
    "            return -1  # Eleman bulunamadı\n",
    "\n",
    "    if arr[prev] == target:\n",
    "        return prev  # Eleman bulundu\n",
    "    return -1  # Eleman bulunamadı\n",
    "\n",
    "# Jump Search Kullanımı\n",
    "arr = [0, 1, 2, 3, 4, 5, 6, 7, 8, 9]\n",
    "target = 4\n",
    "result = jump_search(arr, target)\n",
    "if result != -1:\n",
    "    print(f\"Jump Search: Eleman bulundu, indeks: {result}\")\n",
    "else:\n",
    "    print(\"Jump Search: Eleman bulunamadı\")"
   ],
   "metadata": {
    "colab": {
     "base_uri": "https://localhost:8080/"
    },
    "id": "VOuo-Xr_QGmx",
    "outputId": "cb126046-c8fa-4ab1-f686-f988f056f819"
   },
   "execution_count": 3,
   "outputs": [
    {
     "output_type": "stream",
     "name": "stdout",
     "text": [
      "Jump Search: Eleman bulundu, indeks: 4\n"
     ]
    }
   ]
  },
  {
   "cell_type": "markdown",
   "source": [
    "## 4. Interpolation Search (Enterpolasyon Araması)\n",
    "* Bu algoritma, binary search'e benzer şekilde sıralanmış dizilerde çalışır.\n",
    "* Ancak burada, hedefin dizideki pozisyonunu tahmin etmek için lineer interpolasyon kullanılır.\n",
    "* Zaman karmaşıklığı en iyi durumda O(log log n), en kötü durumda O(n)'dir."
   ],
   "metadata": {
    "id": "NsugkW1nQ5CU"
   }
  },
  {
   "cell_type": "code",
   "source": [
    "def interpolation_search(arr, target):\n",
    "    low = 0\n",
    "    high = len(arr) - 1\n",
    "\n",
    "    while low <= high and target >= arr[low] and target <= arr[high]:\n",
    "        # Hedefin dizideki konumunu tahmin etmek için enterpolasyon kullanıyoruz\n",
    "        if low == high:\n",
    "            if arr[low] == target:\n",
    "                return low\n",
    "            return -1\n",
    "\n",
    "        pos = low + ((target - arr[low]) * (high - low) // (arr[high] - arr[low]))\n",
    "\n",
    "        if arr[pos] == target:\n",
    "            return pos\n",
    "        if arr[pos] < target:\n",
    "            low = pos + 1\n",
    "        else:\n",
    "            high = pos - 1\n",
    "\n",
    "    return -1  # Eleman bulunamadı\n",
    "\n",
    "# Interpolation Search Kullanımı\n",
    "arr = [10, 12, 13, 16, 18, 19, 20, 21, 22, 23]\n",
    "target = 18\n",
    "result = interpolation_search(arr, target)\n",
    "if result != -1:\n",
    "    print(f\"Interpolation Search: Eleman bulundu, indeks: {result}\")\n",
    "else:\n",
    "    print(\"Interpolation Search: Eleman bulunamadı\")\n"
   ],
   "metadata": {
    "colab": {
     "base_uri": "https://localhost:8080/"
    },
    "id": "QKAY7LqORCQb",
    "outputId": "f3d1a7a0-7f8b-4606-e872-7603d61c49b6"
   },
   "execution_count": 4,
   "outputs": [
    {
     "output_type": "stream",
     "name": "stdout",
     "text": [
      "Interpolation Search: Eleman bulundu, indeks: 4\n"
     ]
    }
   ]
  },
  {
   "cell_type": "markdown",
   "source": [
    "## 5. Exponential Search (Üstel Arama)\n",
    "* Bu algoritma sıralı dizilerde kullanılan bir arama algoritmasıdır.\n",
    "* İlk adımda aranan elemanı bulabileceğimiz aralık üstel olarak artırılır, ardından ikili arama yapılır.\n",
    "* Zaman karmaşıklığı O(log n)'dir."
   ],
   "metadata": {
    "id": "0wy_-jvVRJ_2"
   }
  },
  {
   "cell_type": "code",
   "source": [
    "def binary_search_exp(arr, target, low, high):\n",
    "    while low <= high:\n",
    "        mid = (low + high) // 2\n",
    "        if arr[mid] == target:\n",
    "            return mid\n",
    "        elif arr[mid] < target:\n",
    "            low = mid + 1\n",
    "        else:\n",
    "            high = mid - 1\n",
    "    return -1\n",
    "\n",
    "def exponential_search(arr, target):\n",
    "    n = len(arr)\n",
    "    if arr[0] == target:\n",
    "        return 0  # Eğer ilk eleman hedefse\n",
    "\n",
    "    # Uygun aralığı bulmak için üstel arama yapıyoruz\n",
    "    i = 1\n",
    "    while i < n and arr[i] <= target:\n",
    "        i = i * 2\n",
    "\n",
    "    # Bulduğumuz aralıkta ikili arama yapıyoruz\n",
    "    return binary_search_exp(arr, target, i // 2, min(i, n - 1))\n",
    "\n",
    "# Exponential Search Kullanımı\n",
    "arr = [10, 20, 40, 45, 55, 60, 70, 80, 85, 90]\n",
    "target = 70\n",
    "result = exponential_search(arr, target)\n",
    "if result != -1:\n",
    "    print(f\"Exponential Search: Eleman bulundu, indeks: {result}\")\n",
    "else:\n",
    "    print(\"Exponential Search: Eleman bulunamadı\")"
   ],
   "metadata": {
    "colab": {
     "base_uri": "https://localhost:8080/"
    },
    "id": "5fRLSmoRROjB",
    "outputId": "26e92569-6c09-42af-92f3-3325e45dee32"
   },
   "execution_count": 5,
   "outputs": [
    {
     "output_type": "stream",
     "name": "stdout",
     "text": [
      "Exponential Search: Eleman bulundu, indeks: 6\n"
     ]
    }
   ]
  }
 ]
}
