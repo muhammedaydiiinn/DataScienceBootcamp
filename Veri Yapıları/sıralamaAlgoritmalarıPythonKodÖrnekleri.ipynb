{
  "nbformat": 4,
  "nbformat_minor": 0,
  "metadata": {
    "colab": {
      "provenance": []
    },
    "kernelspec": {
      "name": "python3",
      "display_name": "Python 3"
    },
    "language_info": {
      "name": "python"
    }
  },
  "cells": [
    {
      "cell_type": "markdown",
      "source": [
        "# *TURKSTUDENTCO  SIRALAMA ALGORİTMALARI PYTHON ÖRNEKLERİ*"
      ],
      "metadata": {
        "id": "Gkwd0zd_MsXs"
      }
    },
    {
      "cell_type": "markdown",
      "source": [
        "## 1. Bubble Sort (Kabarcık Sıralaması)\n",
        " * Kabarcık sıralaması en basit sıralama algoritmalarından biridir.\n",
        " * Her eleman, kendisinden sonraki elemanla karşılaştırılır ve büyük olan sona doğru taşınır."
      ],
      "metadata": {
        "id": "STJgtViPM_Up"
      }
    },
    {
      "cell_type": "code",
      "source": [
        "def bubble_sort(arr):\n",
        "    n = len(arr)\n",
        "    for i in range(n):\n",
        "        # Son elemanlar zaten sıralı olduğu için, her turda bir eleman az işlem görür.\n",
        "        for j in range(0, n - i - 1):\n",
        "            if arr[j] > arr[j + 1]:\n",
        "                # Eğer mevcut eleman bir sonrakinden büyükse, yer değiştirirler.\n",
        "                arr[j], arr[j + 1] = arr[j + 1], arr[j]\n",
        "    return arr\n",
        "\n",
        "# Bubble Sort Kullanımı\n",
        "arr = [64, 34, 25, 12, 22, 11, 90]\n",
        "print(\"Bubble Sort ile sıralanmış dizi:\", bubble_sort(arr))"
      ],
      "metadata": {
        "colab": {
          "base_uri": "https://localhost:8080/"
        },
        "id": "Mr99i5GbNNEF",
        "outputId": "5bb4228d-5cba-4e41-d039-6005d7ef6f7f"
      },
      "execution_count": 1,
      "outputs": [
        {
          "output_type": "stream",
          "name": "stdout",
          "text": [
            "Bubble Sort ile sıralanmış dizi: [11, 12, 22, 25, 34, 64, 90]\n"
          ]
        }
      ]
    },
    {
      "cell_type": "markdown",
      "source": [
        "## 2. Selection Sort (Seçme Sıralaması)\n",
        "* Bu algoritma, dizinin içindeki en küçük elemanı bulur ve en başa yerleştirir.\n",
        "* Diziyi tarayıp minimum elemanı bulur ve bunu en başa koyar, sonra diğer elemanlarla devam eder."
      ],
      "metadata": {
        "id": "el6QwfhUNXmt"
      }
    },
    {
      "cell_type": "code",
      "source": [
        "def selection_sort(arr):\n",
        "    n = len(arr)\n",
        "    for i in range(n):\n",
        "        # Başlangıçta i'yi minimum indeks olarak alıyoruz\n",
        "        min_idx = i\n",
        "        for j in range(i + 1, n):\n",
        "            if arr[j] < arr[min_idx]:\n",
        "                # Daha küçük bir eleman bulunursa, minimum indeksi güncelliyoruz.\n",
        "                min_idx = j\n",
        "        # Minimum elemanla yer değiştiriyoruz\n",
        "        arr[i], arr[min_idx] = arr[min_idx], arr[i]\n",
        "    return arr\n",
        "\n",
        "# Selection Sort Kullanımı\n",
        "arr = [64, 25, 12, 22, 11]\n",
        "print(\"Selection Sort ile sıralanmış dizi:\", selection_sort(arr))"
      ],
      "metadata": {
        "colab": {
          "base_uri": "https://localhost:8080/"
        },
        "id": "Y82wR3dSNmL0",
        "outputId": "5a8ac8e1-8344-422b-bb10-38c1ecd3f1e0"
      },
      "execution_count": 2,
      "outputs": [
        {
          "output_type": "stream",
          "name": "stdout",
          "text": [
            "Selection Sort ile sıralanmış dizi: [11, 12, 22, 25, 64]\n"
          ]
        }
      ]
    },
    {
      "cell_type": "markdown",
      "source": [
        "## 3. Insertion Sort (Eklemeli Sıralama)\n",
        "* Bu algoritma, dizinin her bir elemanını sıralı bir kısma ekler.\n",
        "* İlk eleman sıralı kabul edilir, diğer elemanlar bu sıralı kısma eklenir."
      ],
      "metadata": {
        "id": "0Ikem6mqNxlN"
      }
    },
    {
      "cell_type": "code",
      "source": [
        "def insertion_sort(arr):\n",
        "    for i in range(1, len(arr)):\n",
        "        key = arr[i]\n",
        "        # Bu anahtarı, sıralanmış kısmındaki doğru yerine yerleştirene kadar geri kaydırıyoruz.\n",
        "        j = i - 1\n",
        "        while j >= 0 and key < arr[j]:\n",
        "            arr[j + 1] = arr[j]\n",
        "            j -= 1\n",
        "        # Doğru yere yerleştirme\n",
        "        arr[j + 1] = key\n",
        "    return arr\n",
        "\n",
        "# Insertion Sort Kullanımı\n",
        "arr = [12, 11, 13, 5, 6]\n",
        "print(\"Insertion Sort ile sıralanmış dizi:\", insertion_sort(arr))"
      ],
      "metadata": {
        "colab": {
          "base_uri": "https://localhost:8080/"
        },
        "id": "sCKjr6mQN4X8",
        "outputId": "16483564-9a40-4b87-c065-408b78f9ca4e"
      },
      "execution_count": 3,
      "outputs": [
        {
          "output_type": "stream",
          "name": "stdout",
          "text": [
            "Insertion Sort ile sıralanmış dizi: [5, 6, 11, 12, 13]\n"
          ]
        }
      ]
    },
    {
      "cell_type": "markdown",
      "source": [
        "## 4. Merge Sort (Birleştirme Sıralaması)\n",
        "* Bu algoritma, \"böl ve fethet\" prensibiyle çalışır.\n",
        "* Diziyi ikiye böler, her iki kısmı sıralar ve ardından sıralı parçaları birleştirİR."
      ],
      "metadata": {
        "id": "EbkgNn_MN-h8"
      }
    },
    {
      "cell_type": "code",
      "source": [
        "def merge_sort(arr):\n",
        "    if len(arr) > 1:\n",
        "        # Diziyi ortadan ikiye bölelim\n",
        "        mid = len(arr) // 2\n",
        "        left_half = arr[:mid]\n",
        "        right_half = arr[mid:]\n",
        "\n",
        "        # Sol ve sağ kısımları sıralarız\n",
        "        merge_sort(left_half)\n",
        "        merge_sort(right_half)\n",
        "\n",
        "        # İndeksleri başlatıyoruz\n",
        "        i = j = k = 0\n",
        "\n",
        "        # İki yarıyı birleştiriyoruz\n",
        "        while i < len(left_half) and j < len(right_half):\n",
        "            if left_half[i] < right_half[j]:\n",
        "                arr[k] = left_half[i]\n",
        "                i += 1\n",
        "            else:\n",
        "                arr[k] = right_half[j]\n",
        "                j += 1\n",
        "            k += 1\n",
        "\n",
        "        # Kalan elemanları ekleriz\n",
        "        while i < len(left_half):\n",
        "            arr[k] = left_half[i]\n",
        "            i += 1\n",
        "            k += 1\n",
        "\n",
        "        while j < len(right_half):\n",
        "            arr[k] = right_half[j]\n",
        "            j += 1\n",
        "            k += 1\n",
        "    return arr\n",
        "\n",
        "# Merge Sort Kullanımı\n",
        "arr = [38, 27, 43, 3, 9, 82, 10]\n",
        "print(\"Merge Sort ile sıralanmış dizi:\", merge_sort(arr))\n"
      ],
      "metadata": {
        "colab": {
          "base_uri": "https://localhost:8080/"
        },
        "id": "GeZSUS3AN92Q",
        "outputId": "be9ec706-ef92-48c1-910f-b764f284d9e8"
      },
      "execution_count": 4,
      "outputs": [
        {
          "output_type": "stream",
          "name": "stdout",
          "text": [
            "Merge Sort ile sıralanmış dizi: [3, 9, 10, 27, 38, 43, 82]\n"
          ]
        }
      ]
    },
    {
      "cell_type": "markdown",
      "source": [
        "## 5. Quick Sort (Hızlı Sıralama)\n",
        "* Quick Sort da \"böl ve fethet\" mantığıyla çalışır. Bir pivot seçer ve diziyi bu pivota göre böler.\n",
        "* Sol tarafta pivotdan küçük elemanlar, sağda ise büyük elemanlar yer alır."
      ],
      "metadata": {
        "id": "wfEOwvBdOMwP"
      }
    },
    {
      "cell_type": "code",
      "source": [
        "def quick_sort(arr):\n",
        "    if len(arr) <= 1:\n",
        "        return arr\n",
        "    else:\n",
        "        # Pivot olarak dizinin ortasındaki elemanı seçiyoruz\n",
        "        pivot = arr[len(arr) // 2]\n",
        "        left = [x for x in arr if x < pivot]\n",
        "        middle = [x for x in arr if x == pivot]\n",
        "        right = [x for x in arr if x > pivot]\n",
        "        # Sol, orta ve sağ kısımları birleştirerek sıralama yaparız\n",
        "        return quick_sort(left) + middle + quick_sort(right)\n",
        "\n",
        "# Quick Sort Kullanımı\n",
        "arr = [10, 7, 8, 9, 1, 5]\n",
        "print(\"Quick Sort ile sıralanmış dizi:\", quick_sort(arr))"
      ],
      "metadata": {
        "colab": {
          "base_uri": "https://localhost:8080/"
        },
        "id": "HbmUez0mOTth",
        "outputId": "607d9c04-1b8c-4123-d38a-1fb4e80f132c"
      },
      "execution_count": 5,
      "outputs": [
        {
          "output_type": "stream",
          "name": "stdout",
          "text": [
            "Quick Sort ile sıralanmış dizi: [1, 5, 7, 8, 9, 10]\n"
          ]
        }
      ]
    },
    {
      "cell_type": "markdown",
      "source": [
        "## 6. Heap Sort (Yığın Sıralaması) BONUS\n",
        "* Heap Sort, yığın veri yapısını kullanarak elemanları sıralar. Öncelikle bir maksimum yığın oluşturulur,\n",
        " ardından bu yığın düzeni kullanılarak sıralama yapılır."
      ],
      "metadata": {
        "id": "TX-FM2nHOc0x"
      }
    },
    {
      "cell_type": "code",
      "source": [
        "def heapify(arr, n, i):\n",
        "    # İndeksi, sol ve sağ çocukları kontrol ediyoruz\n",
        "    largest = i\n",
        "    l = 2 * i + 1\n",
        "    r = 2 * i + 2\n",
        "\n",
        "    # Eğer sol çocuk daha büyükse onu güncelliyoruz\n",
        "    if l < n and arr[l] > arr[largest]:\n",
        "        largest = l\n",
        "\n",
        "    # Eğer sağ çocuk daha büyükse onu güncelliyoruz\n",
        "    if r < n and arr[r] > arr[largest]:\n",
        "        largest = r\n",
        "\n",
        "    # Eğer büyük bir çocuk bulunursa, yer değiştiriyoruz\n",
        "    if largest != i:\n",
        "        arr[i], arr[largest] = arr[largest], arr[i]\n",
        "        # Alt ağaçları da heap yapısına çeviriyoruz\n",
        "        heapify(arr, n, largest)\n",
        "\n",
        "def heap_sort(arr):\n",
        "    n = len(arr)\n",
        "\n",
        "    # Yığını kuruyoruz\n",
        "    for i in range(n // 2 - 1, -1, -1):\n",
        "        heapify(arr, n, i)\n",
        "\n",
        "    # Sıralama işlemi\n",
        "    for i in range(n - 1, 0, -1):\n",
        "        arr[i], arr[0] = arr[0], arr[i]\n",
        "        heapify(arr, i, 0)\n",
        "    return arr\n",
        "\n",
        "# Heap Sort Kullanımı\n",
        "arr = [12, 11, 13, 5, 6, 7]\n",
        "print(\"Heap Sort ile sıralanmış dizi:\", heap_sort(arr))"
      ],
      "metadata": {
        "colab": {
          "base_uri": "https://localhost:8080/"
        },
        "id": "I6beDwrOOg24",
        "outputId": "8f3ca7cb-8881-430f-8a7d-2f39662f1108"
      },
      "execution_count": 6,
      "outputs": [
        {
          "output_type": "stream",
          "name": "stdout",
          "text": [
            "Heap Sort ile sıralanmış dizi: [5, 6, 7, 11, 12, 13]\n"
          ]
        }
      ]
    }
  ]
}